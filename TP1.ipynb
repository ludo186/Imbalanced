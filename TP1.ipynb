{
 "cells": [
  {
   "cell_type": "markdown",
   "id": "932a5de3-4ed3-49d8-b703-9e5ff32204ed",
   "metadata": {},
   "source": [
    "# TD 1\n",
    "> Building the Dataset\n",
    "1. Load Dataset\n",
    "5. Plot the distribution of your target.\n",
    "9. Create a validation dataset: save all data after 3000 lines and keep it in a `val_dataset`, then remove it from your main dataset.\n",
    "\n",
    "> Making First Predictions\n",
    "1. Do a first prediction with a simple train-test split.\n",
    "2. Show accuracy score and confusion matrix.\n",
    "\n",
    "> Trace your own PR curve\n",
    "1. Do the same a before but use `predict_proba`\n",
    "2. convert your result in binary output ( e.g 0 and 1)\n",
    "3. do that with a threshold between 0 and 1 with a step of 0.1\n",
    "4. calculate your Precision and your Recall\n",
    "5. plot the curve\n",
    "\n",
    "> Building a More Robust Model\n",
    "1. Create a function that takes as input a dataset, a type of cross-validation (`Xval`), and a metric:\n",
    "    1. Declare a model.\n",
    "    2. Create an `Xval` object with a `random_state` of 42.\n",
    "    3. Train a model for each fold.\n",
    "    4. Save the score on the test fold.\n",
    "    5. Save the model of this fold\n",
    "    5. Return all the scores.\n",
    "2. Run your function with `Kfold` and `StratifiedKfold`.\n",
    "3. Display the results by fold.\n",
    "\n",
    "> Enhancing the Results\n",
    "1. Repeat the same process with downsampling \n",
    "2. Repeat the same process with resampling\n",
    "3. Use SMOTE and repeat the same process.\n",
    "4. Use `class_weight` params and repeat the same process.\n",
    "6. Plot all the results and compare.\n",
    "\n",
    "> Checking if the Results Fit the Reality\n",
    "1. Take the same model you used previously.\n",
    "2. For each technique you implemented, train your model with all the data (no `Xval`) and predict on the validation dataset.\n",
    "3. Look at the impact on performance for the validation period with your predictions.\n",
    "4. Plot all the results and compare."
   ]
  },
  {
   "cell_type": "code",
   "execution_count": null,
   "id": "2945aca1-711e-4b0c-8f4b-5319fa92eb3e",
   "metadata": {},
   "outputs": [],
   "source": []
  }
 ],
 "metadata": {
  "kernelspec": {
   "display_name": "Python 3 (ipykernel)",
   "language": "python",
   "name": "python3"
  },
  "language_info": {
   "codemirror_mode": {
    "name": "ipython",
    "version": 3
   },
   "file_extension": ".py",
   "mimetype": "text/x-python",
   "name": "python",
   "nbconvert_exporter": "python",
   "pygments_lexer": "ipython3",
   "version": "3.10.14"
  }
 },
 "nbformat": 4,
 "nbformat_minor": 5
}
